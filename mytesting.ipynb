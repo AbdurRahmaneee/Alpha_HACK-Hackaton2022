{
 "cells": [
  {
   "cell_type": "markdown",
   "id": "d22ac237",
   "metadata": {},
   "source": [
    "import libraries"
   ]
  },
  {
   "cell_type": "code",
   "execution_count": 1,
   "id": "c7961822",
   "metadata": {},
   "outputs": [],
   "source": [
    "import pandas as pd\n",
    "import matplotlib.pyplot as plt\n",
    "import numpy as np"
   ]
  },
  {
   "cell_type": "markdown",
   "id": "55d98e1c",
   "metadata": {},
   "source": [
    "Read data from 'input_dataset-2.parquet' and 'prediction_input.parquet' using 'pyarrow'"
   ]
  },
  {
   "cell_type": "code",
   "execution_count": 2,
   "id": "d3d5ae66",
   "metadata": {},
   "outputs": [],
   "source": [
    "data_set_initial = pd.read_parquet('input_dataset-2.parquet', engine='pyarrow')\n",
    "predict_set_initial = pd.read_parquet('prediction_input.parquet', engine='pyarrow')"
   ]
  },
  {
   "cell_type": "markdown",
   "id": "03909629",
   "metadata": {},
   "source": [
    "Let's check NaN value count"
   ]
  },
  {
   "cell_type": "code",
   "execution_count": 3,
   "id": "537b8475",
   "metadata": {},
   "outputs": [
    {
     "data": {
      "text/plain": [
       "Unit_4_Power                      124087\n",
       "Unit_4_Reactive Power             124087\n",
       "Turbine_Guide Vane Opening        124087\n",
       "Turbine_Pressure Drafttube        124087\n",
       "Turbine_Pressure Spiral Casing    124087\n",
       "Turbine_Rotational Speed          124087\n",
       "mode                                   0\n",
       "Bolt_1_Steel tmp                  124087\n",
       "Bolt_1_Tensile                    124087\n",
       "Bolt_2_Tensile                    124087\n",
       "Bolt_3_Tensile                    124087\n",
       "Bolt_4_Tensile                    124087\n",
       "Bolt_5_Tensile                    124087\n",
       "Bolt_6_Tensile                    124087\n",
       "Bolt_1_Torsion                    124087\n",
       "Bolt_2_Torsion                    124087\n",
       "Bolt_3_Torsion                    124087\n",
       "Bolt_4_Torsion                    124087\n",
       "Bolt_5_Torsion                    124087\n",
       "Bolt_6_Torsion                    124087\n",
       "lower_bearing_vib_vrt             806069\n",
       "turbine_bearing_vib_vrt           806069\n",
       "dtype: int64"
      ]
     },
     "execution_count": 3,
     "metadata": {},
     "output_type": "execute_result"
    }
   ],
   "source": [
    "data_set_initial.isnull().sum()"
   ]
  },
  {
   "cell_type": "markdown",
   "id": "318d1b5d",
   "metadata": {},
   "source": [
    "So, there are lots of NaN value for 'lower_bearing_vib_vrt' and 'turbine_bearing_vib_vrt'\n",
    "\n",
    "Let's ignore those 'lower_bearing_vib_vrt' and 'turbine_bearing_vib_vrt'"
   ]
  },
  {
   "cell_type": "code",
   "execution_count": 4,
   "id": "fd319a1d",
   "metadata": {},
   "outputs": [],
   "source": [
    "data_set_initial = data_set_initial[['Unit_4_Power','Unit_4_Reactive Power','Turbine_Guide Vane Opening','Turbine_Pressure Drafttube','Turbine_Pressure Spiral Casing','Turbine_Rotational Speed','mode','Bolt_1_Steel tmp','Bolt_1_Tensile','Bolt_2_Tensile','Bolt_3_Tensile','Bolt_4_Tensile','Bolt_5_Tensile','Bolt_6_Tensile']]"
   ]
  },
  {
   "cell_type": "markdown",
   "id": "97d5e81c",
   "metadata": {},
   "source": [
    "Check predict data set"
   ]
  },
  {
   "cell_type": "code",
   "execution_count": 5,
   "id": "fcbd412f",
   "metadata": {},
   "outputs": [
    {
     "data": {
      "text/plain": [
       "Unit_4_Power                      0\n",
       "Unit_4_Reactive Power             0\n",
       "Turbine_Guide Vane Opening        0\n",
       "Turbine_Pressure Drafttube        0\n",
       "Turbine_Pressure Spiral Casing    0\n",
       "Turbine_Rotational Speed          0\n",
       "mode                              0\n",
       "dtype: int64"
      ]
     },
     "execution_count": 5,
     "metadata": {},
     "output_type": "execute_result"
    }
   ],
   "source": [
    "predict_set_initial.isnull().sum()"
   ]
  },
  {
   "cell_type": "code",
   "execution_count": 6,
   "id": "8f890bbb",
   "metadata": {},
   "outputs": [],
   "source": [
    "data_set_initial = data_set_initial.interpolate()"
   ]
  },
  {
   "cell_type": "code",
   "execution_count": 7,
   "id": "541b7665",
   "metadata": {},
   "outputs": [
    {
     "data": {
      "text/plain": [
       "Unit_4_Power                      0\n",
       "Unit_4_Reactive Power             0\n",
       "Turbine_Guide Vane Opening        0\n",
       "Turbine_Pressure Drafttube        0\n",
       "Turbine_Pressure Spiral Casing    0\n",
       "Turbine_Rotational Speed          0\n",
       "mode                              0\n",
       "Bolt_1_Steel tmp                  0\n",
       "Bolt_1_Tensile                    0\n",
       "Bolt_2_Tensile                    0\n",
       "Bolt_3_Tensile                    0\n",
       "Bolt_4_Tensile                    0\n",
       "Bolt_5_Tensile                    0\n",
       "Bolt_6_Tensile                    0\n",
       "dtype: int64"
      ]
     },
     "execution_count": 7,
     "metadata": {},
     "output_type": "execute_result"
    }
   ],
   "source": [
    "data_set_initial.isnull().sum()"
   ]
  },
  {
   "cell_type": "markdown",
   "id": "f809af08",
   "metadata": {},
   "source": [
    "Convert these mode from text to numbers (0 for operation, 1 for start)"
   ]
  },
  {
   "cell_type": "code",
   "execution_count": 8,
   "id": "0e3e2fce",
   "metadata": {},
   "outputs": [],
   "source": [
    "predict_set = predict_set_initial.replace(to_replace =\"operation\",value =0)\n",
    "predict_set_final = predict_set.replace(to_replace =\"start\",value =1)\n",
    "\n",
    "data_set = data_set_initial.replace(to_replace =\"operation\",value =0)\n",
    "data_set_final = data_set.replace(to_replace =\"start\",value =1)"
   ]
  },
  {
   "cell_type": "markdown",
   "id": "08d53812",
   "metadata": {},
   "source": [
    "Function to create a test set"
   ]
  },
  {
   "cell_type": "code",
   "execution_count": 9,
   "id": "b13bebd7",
   "metadata": {},
   "outputs": [],
   "source": [
    "from sklearn.model_selection import train_test_split"
   ]
  },
  {
   "cell_type": "markdown",
   "id": "475b574d",
   "metadata": {},
   "source": [
    "Split data_set to train_set and test_set"
   ]
  },
  {
   "cell_type": "code",
   "execution_count": 10,
   "id": "09765765",
   "metadata": {},
   "outputs": [],
   "source": [
    "train_set, test_set = train_test_split(data_set_final, test_size=0.2, random_state=42)"
   ]
  },
  {
   "cell_type": "code",
   "execution_count": 12,
   "id": "34435b43",
   "metadata": {},
   "outputs": [
    {
     "data": {
      "text/plain": [
       "1499269"
      ]
     },
     "execution_count": 12,
     "metadata": {},
     "output_type": "execute_result"
    }
   ],
   "source": [
    "len(train_set)"
   ]
  },
  {
   "cell_type": "markdown",
   "id": "001a5901",
   "metadata": {},
   "source": [
    "X and Y are taken for the train_set inputs and outputs"
   ]
  },
  {
   "cell_type": "code",
   "execution_count": 13,
   "id": "0979c04f",
   "metadata": {},
   "outputs": [],
   "source": [
    "X = train_set[['Unit_4_Power','Unit_4_Reactive Power','Turbine_Guide Vane Opening','Turbine_Pressure Drafttube','Turbine_Pressure Spiral Casing','Turbine_Rotational Speed','mode',]]"
   ]
  },
  {
   "cell_type": "code",
   "execution_count": 14,
   "id": "b8e28e0c",
   "metadata": {},
   "outputs": [],
   "source": [
    "Y = train_set[['Bolt_1_Tensile','Bolt_2_Tensile','Bolt_3_Tensile','Bolt_4_Tensile','Bolt_5_Tensile','Bolt_6_Tensile']]"
   ]
  },
  {
   "cell_type": "markdown",
   "id": "42264706",
   "metadata": {},
   "source": [
    "Check length of test_set"
   ]
  },
  {
   "cell_type": "code",
   "execution_count": 15,
   "id": "c686da7d",
   "metadata": {},
   "outputs": [
    {
     "data": {
      "text/plain": [
       "374818"
      ]
     },
     "execution_count": 15,
     "metadata": {},
     "output_type": "execute_result"
    }
   ],
   "source": [
    "len(test_set)"
   ]
  },
  {
   "cell_type": "markdown",
   "id": "5c7a67b0",
   "metadata": {},
   "source": [
    "Check available modes"
   ]
  },
  {
   "cell_type": "code",
   "execution_count": 16,
   "id": "4c34161b",
   "metadata": {},
   "outputs": [
    {
     "data": {
      "text/plain": [
       "0    1494952\n",
       "1       4317\n",
       "Name: mode, dtype: int64"
      ]
     },
     "execution_count": 16,
     "metadata": {},
     "output_type": "execute_result"
    }
   ],
   "source": [
    "train_set['mode'].value_counts()"
   ]
  },
  {
   "cell_type": "code",
   "execution_count": 17,
   "id": "d0f7010a",
   "metadata": {},
   "outputs": [],
   "source": [
    "X_new = X.to_numpy()"
   ]
  },
  {
   "cell_type": "code",
   "execution_count": 18,
   "id": "cdd5b6bd",
   "metadata": {},
   "outputs": [],
   "source": [
    "Y_new = Y.to_numpy()"
   ]
  },
  {
   "cell_type": "markdown",
   "id": "e99a482b",
   "metadata": {},
   "source": [
    "Apply Linear Regression"
   ]
  },
  {
   "cell_type": "code",
   "execution_count": 19,
   "id": "cadaf37b",
   "metadata": {},
   "outputs": [],
   "source": [
    "from sklearn.linear_model import LinearRegression"
   ]
  },
  {
   "cell_type": "code",
   "execution_count": 20,
   "id": "d6afd5d2",
   "metadata": {},
   "outputs": [],
   "source": [
    "lin_reg = LinearRegression()"
   ]
  },
  {
   "cell_type": "code",
   "execution_count": 21,
   "id": "6139a9c5",
   "metadata": {},
   "outputs": [
    {
     "data": {
      "text/plain": [
       "LinearRegression()"
      ]
     },
     "execution_count": 21,
     "metadata": {},
     "output_type": "execute_result"
    }
   ],
   "source": [
    "lin_reg.fit(X_new,Y_new)"
   ]
  },
  {
   "cell_type": "code",
   "execution_count": 22,
   "id": "734137e6",
   "metadata": {},
   "outputs": [],
   "source": [
    "x_test = test_set[['Unit_4_Power','Unit_4_Reactive Power','Turbine_Guide Vane Opening','Turbine_Pressure Drafttube','Turbine_Pressure Spiral Casing','Turbine_Rotational Speed','mode',]]"
   ]
  },
  {
   "cell_type": "code",
   "execution_count": 23,
   "id": "0b475f67",
   "metadata": {},
   "outputs": [],
   "source": [
    "x_test_new = x_test.to_numpy()"
   ]
  },
  {
   "cell_type": "code",
   "execution_count": 24,
   "id": "553a309d",
   "metadata": {},
   "outputs": [],
   "source": [
    "y_test = test_set[['Bolt_1_Tensile','Bolt_2_Tensile','Bolt_3_Tensile','Bolt_4_Tensile','Bolt_5_Tensile','Bolt_6_Tensile']]"
   ]
  },
  {
   "cell_type": "code",
   "execution_count": 25,
   "id": "5d1cc84e",
   "metadata": {},
   "outputs": [],
   "source": [
    "y_test_new = y_test.to_numpy()"
   ]
  },
  {
   "cell_type": "code",
   "execution_count": 26,
   "id": "7fae12f0",
   "metadata": {},
   "outputs": [],
   "source": [
    "y_test_new_predicted = lin_reg.predict(x_test_new)"
   ]
  },
  {
   "cell_type": "markdown",
   "id": "3c1b4a7d",
   "metadata": {},
   "source": [
    "Let’s measure this regression model’s RMSE"
   ]
  },
  {
   "cell_type": "code",
   "execution_count": 27,
   "id": "30f2018f",
   "metadata": {},
   "outputs": [],
   "source": [
    "from sklearn.metrics import mean_squared_error"
   ]
  },
  {
   "cell_type": "code",
   "execution_count": 28,
   "id": "dda03490",
   "metadata": {},
   "outputs": [],
   "source": [
    "lin_mse = mean_squared_error(y_test_new, y_test_new_predicted)"
   ]
  },
  {
   "cell_type": "code",
   "execution_count": 29,
   "id": "01822ccf",
   "metadata": {},
   "outputs": [
    {
     "data": {
      "text/plain": [
       "5.1154452259219045"
      ]
     },
     "execution_count": 29,
     "metadata": {},
     "output_type": "execute_result"
    }
   ],
   "source": [
    "lin_rmse = np.sqrt(lin_mse)\n",
    "lin_rmse"
   ]
  },
  {
   "cell_type": "markdown",
   "id": "171b3581",
   "metadata": {},
   "source": [
    "Let’s train a DecisionTreeRegressor"
   ]
  },
  {
   "cell_type": "code",
   "execution_count": 30,
   "id": "1101202f",
   "metadata": {},
   "outputs": [],
   "source": [
    "from sklearn.tree import DecisionTreeRegressor"
   ]
  },
  {
   "cell_type": "code",
   "execution_count": 31,
   "id": "fee8cbcd",
   "metadata": {},
   "outputs": [
    {
     "data": {
      "text/plain": [
       "DecisionTreeRegressor()"
      ]
     },
     "execution_count": 31,
     "metadata": {},
     "output_type": "execute_result"
    }
   ],
   "source": [
    "tree_reg = DecisionTreeRegressor()\n",
    "tree_reg.fit(X_new, Y_new)"
   ]
  },
  {
   "cell_type": "markdown",
   "id": "de5f7cdb",
   "metadata": {},
   "source": [
    "Now that the model is trained, let’s evaluate it on the training set"
   ]
  },
  {
   "cell_type": "code",
   "execution_count": 32,
   "id": "0e768b12",
   "metadata": {},
   "outputs": [],
   "source": [
    "y_test_new_predicted = tree_reg.predict(x_test_new)"
   ]
  },
  {
   "cell_type": "code",
   "execution_count": 33,
   "id": "4fce0b3e",
   "metadata": {},
   "outputs": [],
   "source": [
    "tree_mse = mean_squared_error(y_test_new, y_test_new_predicted)"
   ]
  },
  {
   "cell_type": "code",
   "execution_count": 34,
   "id": "7ec8ff1e",
   "metadata": {},
   "outputs": [],
   "source": [
    "tree_rmse = np.sqrt(tree_mse)"
   ]
  },
  {
   "cell_type": "code",
   "execution_count": 35,
   "id": "e9bcfbbd",
   "metadata": {},
   "outputs": [
    {
     "data": {
      "text/plain": [
       "0.4954417460627697"
      ]
     },
     "execution_count": 35,
     "metadata": {},
     "output_type": "execute_result"
    }
   ],
   "source": [
    "tree_rmse"
   ]
  },
  {
   "cell_type": "markdown",
   "id": "a9f66fae",
   "metadata": {},
   "source": [
    "Seems like this model really good. Let's use Cross-Validation using Scikit-Learn’s K-fold cross-validation"
   ]
  },
  {
   "cell_type": "code",
   "execution_count": 36,
   "id": "a3ebe652",
   "metadata": {},
   "outputs": [],
   "source": [
    "from sklearn.model_selection import cross_val_score"
   ]
  },
  {
   "cell_type": "code",
   "execution_count": 37,
   "id": "9930f61e",
   "metadata": {},
   "outputs": [],
   "source": [
    "scores = cross_val_score(tree_reg, X_new, Y_new, scoring=\"neg_mean_squared_error\", cv=10)"
   ]
  },
  {
   "cell_type": "code",
   "execution_count": 38,
   "id": "ab5a2202",
   "metadata": {},
   "outputs": [],
   "source": [
    "tree_rmse_scores = np.sqrt(-scores)"
   ]
  },
  {
   "cell_type": "markdown",
   "id": "c76c527c",
   "metadata": {},
   "source": [
    "Let’s look at the results"
   ]
  },
  {
   "cell_type": "code",
   "execution_count": 39,
   "id": "c01fecdc",
   "metadata": {},
   "outputs": [],
   "source": [
    "def display_scores(scores):\n",
    "    print(\"Scores:\", scores)\n",
    "    print(\"Mean:\", scores.mean())\n",
    "    print(\"Standard deviation:\", scores.std())"
   ]
  },
  {
   "cell_type": "code",
   "execution_count": 40,
   "id": "6841a956",
   "metadata": {},
   "outputs": [
    {
     "name": "stdout",
     "output_type": "stream",
     "text": [
      "Scores: [0.49055486 0.47733455 0.51308635 0.48741176 0.51196659 0.542133\n",
      " 0.52281204 0.4896762  0.51244615 0.48394752]\n",
      "Mean: 0.5031369018744984\n",
      "Standard deviation: 0.019473559477449835\n"
     ]
    }
   ],
   "source": [
    "display_scores(tree_rmse_scores)"
   ]
  },
  {
   "cell_type": "markdown",
   "id": "ff946b18",
   "metadata": {},
   "source": [
    "Let’s compute the same scores for the Linear Regression model"
   ]
  },
  {
   "cell_type": "code",
   "execution_count": 41,
   "id": "178456c7",
   "metadata": {},
   "outputs": [],
   "source": [
    "lin_scores = cross_val_score(lin_reg, X_new, Y_new, scoring = 'neg_mean_squared_error', cv = 10)"
   ]
  },
  {
   "cell_type": "code",
   "execution_count": 42,
   "id": "aba95813",
   "metadata": {},
   "outputs": [],
   "source": [
    "lin_rmse_scores = np.sqrt(-lin_scores)"
   ]
  },
  {
   "cell_type": "code",
   "execution_count": 43,
   "id": "caa70dc2",
   "metadata": {},
   "outputs": [
    {
     "name": "stdout",
     "output_type": "stream",
     "text": [
      "Scores: [5.10783499 5.12766712 5.11483909 5.11426788 5.11327216 5.13480248\n",
      " 5.12837821 5.10918729 5.11838555 5.1139287 ]\n",
      "Mean: 5.118256346419651\n",
      "Standard deviation: 0.008525343119757087\n"
     ]
    }
   ],
   "source": [
    "display_scores(lin_rmse_scores)"
   ]
  },
  {
   "cell_type": "markdown",
   "id": "e146ea82",
   "metadata": {},
   "source": [
    "Linear Regression model shows a lower deviation. So, the DecisionTreeRegressor is overfitted"
   ]
  },
  {
   "cell_type": "markdown",
   "id": "6523db78",
   "metadata": {},
   "source": [
    "So, the selected model is Linear Regression. Lets build the prediction"
   ]
  },
  {
   "cell_type": "code",
   "execution_count": 44,
   "id": "97532ac7",
   "metadata": {},
   "outputs": [
    {
     "data": {
      "text/html": [
       "<div>\n",
       "<style scoped>\n",
       "    .dataframe tbody tr th:only-of-type {\n",
       "        vertical-align: middle;\n",
       "    }\n",
       "\n",
       "    .dataframe tbody tr th {\n",
       "        vertical-align: top;\n",
       "    }\n",
       "\n",
       "    .dataframe thead th {\n",
       "        text-align: right;\n",
       "    }\n",
       "</style>\n",
       "<table border=\"1\" class=\"dataframe\">\n",
       "  <thead>\n",
       "    <tr style=\"text-align: right;\">\n",
       "      <th></th>\n",
       "      <th>Unit_4_Power</th>\n",
       "      <th>Unit_4_Reactive Power</th>\n",
       "      <th>Turbine_Guide Vane Opening</th>\n",
       "      <th>Turbine_Pressure Drafttube</th>\n",
       "      <th>Turbine_Pressure Spiral Casing</th>\n",
       "      <th>Turbine_Rotational Speed</th>\n",
       "      <th>mode</th>\n",
       "    </tr>\n",
       "    <tr>\n",
       "      <th>timepoints</th>\n",
       "      <th></th>\n",
       "      <th></th>\n",
       "      <th></th>\n",
       "      <th></th>\n",
       "      <th></th>\n",
       "      <th></th>\n",
       "      <th></th>\n",
       "    </tr>\n",
       "  </thead>\n",
       "  <tbody>\n",
       "    <tr>\n",
       "      <th>1971-01-25 11:06:49</th>\n",
       "      <td>308.867868</td>\n",
       "      <td>5.592261</td>\n",
       "      <td>94.442351</td>\n",
       "      <td>158.159044</td>\n",
       "      <td>5279.876581</td>\n",
       "      <td>108.057467</td>\n",
       "      <td>0</td>\n",
       "    </tr>\n",
       "    <tr>\n",
       "      <th>1971-01-25 11:06:50</th>\n",
       "      <td>308.898237</td>\n",
       "      <td>6.251969</td>\n",
       "      <td>94.445687</td>\n",
       "      <td>158.202829</td>\n",
       "      <td>5279.930843</td>\n",
       "      <td>108.057460</td>\n",
       "      <td>0</td>\n",
       "    </tr>\n",
       "    <tr>\n",
       "      <th>1971-01-25 11:06:51</th>\n",
       "      <td>308.928605</td>\n",
       "      <td>7.037091</td>\n",
       "      <td>94.449024</td>\n",
       "      <td>158.246614</td>\n",
       "      <td>5279.985105</td>\n",
       "      <td>108.057454</td>\n",
       "      <td>0</td>\n",
       "    </tr>\n",
       "    <tr>\n",
       "      <th>1971-01-25 11:06:52</th>\n",
       "      <td>308.958974</td>\n",
       "      <td>7.822213</td>\n",
       "      <td>94.452361</td>\n",
       "      <td>158.290399</td>\n",
       "      <td>5280.039368</td>\n",
       "      <td>108.057448</td>\n",
       "      <td>0</td>\n",
       "    </tr>\n",
       "    <tr>\n",
       "      <th>1971-01-25 11:06:53</th>\n",
       "      <td>308.989343</td>\n",
       "      <td>8.607335</td>\n",
       "      <td>94.455698</td>\n",
       "      <td>158.302931</td>\n",
       "      <td>5280.058748</td>\n",
       "      <td>108.057442</td>\n",
       "      <td>0</td>\n",
       "    </tr>\n",
       "    <tr>\n",
       "      <th>...</th>\n",
       "      <td>...</td>\n",
       "      <td>...</td>\n",
       "      <td>...</td>\n",
       "      <td>...</td>\n",
       "      <td>...</td>\n",
       "      <td>...</td>\n",
       "      <td>...</td>\n",
       "    </tr>\n",
       "    <tr>\n",
       "      <th>1971-02-03 20:16:19</th>\n",
       "      <td>113.553752</td>\n",
       "      <td>-20.230184</td>\n",
       "      <td>44.871419</td>\n",
       "      <td>100.034072</td>\n",
       "      <td>5419.023758</td>\n",
       "      <td>106.746818</td>\n",
       "      <td>0</td>\n",
       "    </tr>\n",
       "    <tr>\n",
       "      <th>1971-02-03 20:16:20</th>\n",
       "      <td>110.520494</td>\n",
       "      <td>-20.911359</td>\n",
       "      <td>43.954699</td>\n",
       "      <td>100.034548</td>\n",
       "      <td>5419.328873</td>\n",
       "      <td>106.734902</td>\n",
       "      <td>0</td>\n",
       "    </tr>\n",
       "    <tr>\n",
       "      <th>1971-02-03 20:16:21</th>\n",
       "      <td>107.487618</td>\n",
       "      <td>-21.592784</td>\n",
       "      <td>43.037925</td>\n",
       "      <td>100.035024</td>\n",
       "      <td>5419.633988</td>\n",
       "      <td>106.722986</td>\n",
       "      <td>0</td>\n",
       "    </tr>\n",
       "    <tr>\n",
       "      <th>1971-02-03 20:16:22</th>\n",
       "      <td>104.454741</td>\n",
       "      <td>-22.274208</td>\n",
       "      <td>42.121151</td>\n",
       "      <td>100.035287</td>\n",
       "      <td>5420.094237</td>\n",
       "      <td>106.711070</td>\n",
       "      <td>0</td>\n",
       "    </tr>\n",
       "    <tr>\n",
       "      <th>1971-02-03 20:16:23</th>\n",
       "      <td>101.421865</td>\n",
       "      <td>-22.955633</td>\n",
       "      <td>41.204377</td>\n",
       "      <td>100.034405</td>\n",
       "      <td>5421.385963</td>\n",
       "      <td>106.699154</td>\n",
       "      <td>0</td>\n",
       "    </tr>\n",
       "  </tbody>\n",
       "</table>\n",
       "<p>226364 rows × 7 columns</p>\n",
       "</div>"
      ],
      "text/plain": [
       "                     Unit_4_Power  Unit_4_Reactive Power  \\\n",
       "timepoints                                                 \n",
       "1971-01-25 11:06:49    308.867868               5.592261   \n",
       "1971-01-25 11:06:50    308.898237               6.251969   \n",
       "1971-01-25 11:06:51    308.928605               7.037091   \n",
       "1971-01-25 11:06:52    308.958974               7.822213   \n",
       "1971-01-25 11:06:53    308.989343               8.607335   \n",
       "...                           ...                    ...   \n",
       "1971-02-03 20:16:19    113.553752             -20.230184   \n",
       "1971-02-03 20:16:20    110.520494             -20.911359   \n",
       "1971-02-03 20:16:21    107.487618             -21.592784   \n",
       "1971-02-03 20:16:22    104.454741             -22.274208   \n",
       "1971-02-03 20:16:23    101.421865             -22.955633   \n",
       "\n",
       "                     Turbine_Guide Vane Opening  Turbine_Pressure Drafttube  \\\n",
       "timepoints                                                                    \n",
       "1971-01-25 11:06:49                   94.442351                  158.159044   \n",
       "1971-01-25 11:06:50                   94.445687                  158.202829   \n",
       "1971-01-25 11:06:51                   94.449024                  158.246614   \n",
       "1971-01-25 11:06:52                   94.452361                  158.290399   \n",
       "1971-01-25 11:06:53                   94.455698                  158.302931   \n",
       "...                                         ...                         ...   \n",
       "1971-02-03 20:16:19                   44.871419                  100.034072   \n",
       "1971-02-03 20:16:20                   43.954699                  100.034548   \n",
       "1971-02-03 20:16:21                   43.037925                  100.035024   \n",
       "1971-02-03 20:16:22                   42.121151                  100.035287   \n",
       "1971-02-03 20:16:23                   41.204377                  100.034405   \n",
       "\n",
       "                     Turbine_Pressure Spiral Casing  Turbine_Rotational Speed  \\\n",
       "timepoints                                                                      \n",
       "1971-01-25 11:06:49                     5279.876581                108.057467   \n",
       "1971-01-25 11:06:50                     5279.930843                108.057460   \n",
       "1971-01-25 11:06:51                     5279.985105                108.057454   \n",
       "1971-01-25 11:06:52                     5280.039368                108.057448   \n",
       "1971-01-25 11:06:53                     5280.058748                108.057442   \n",
       "...                                             ...                       ...   \n",
       "1971-02-03 20:16:19                     5419.023758                106.746818   \n",
       "1971-02-03 20:16:20                     5419.328873                106.734902   \n",
       "1971-02-03 20:16:21                     5419.633988                106.722986   \n",
       "1971-02-03 20:16:22                     5420.094237                106.711070   \n",
       "1971-02-03 20:16:23                     5421.385963                106.699154   \n",
       "\n",
       "                     mode  \n",
       "timepoints                 \n",
       "1971-01-25 11:06:49     0  \n",
       "1971-01-25 11:06:50     0  \n",
       "1971-01-25 11:06:51     0  \n",
       "1971-01-25 11:06:52     0  \n",
       "1971-01-25 11:06:53     0  \n",
       "...                   ...  \n",
       "1971-02-03 20:16:19     0  \n",
       "1971-02-03 20:16:20     0  \n",
       "1971-02-03 20:16:21     0  \n",
       "1971-02-03 20:16:22     0  \n",
       "1971-02-03 20:16:23     0  \n",
       "\n",
       "[226364 rows x 7 columns]"
      ]
     },
     "execution_count": 44,
     "metadata": {},
     "output_type": "execute_result"
    }
   ],
   "source": [
    "predict_set_final"
   ]
  },
  {
   "cell_type": "code",
   "execution_count": 45,
   "id": "ea1c170c",
   "metadata": {},
   "outputs": [],
   "source": [
    "predict_set_final_X = predict_set_final.to_numpy()"
   ]
  },
  {
   "cell_type": "code",
   "execution_count": 46,
   "id": "acd4ab15",
   "metadata": {},
   "outputs": [
    {
     "data": {
      "text/plain": [
       "array([[ 308.86786809,    5.59226085,   94.44235057, ..., 5279.87658082,\n",
       "         108.05746682,    0.        ],\n",
       "       [ 308.89823675,    6.25196927,   94.44568749, ..., 5279.93084307,\n",
       "         108.05746049,    0.        ],\n",
       "       [ 308.92860541,    7.0370913 ,   94.44902441, ..., 5279.98510533,\n",
       "         108.05745417,    0.        ],\n",
       "       ...,\n",
       "       [ 107.48761775,  -21.59278364,   43.0379251 , ..., 5419.63398777,\n",
       "         106.7229858 ,    0.        ],\n",
       "       [ 104.45474113,  -22.27420816,   42.12115085, ..., 5420.0942374 ,\n",
       "         106.71106977,    0.        ],\n",
       "       [ 101.4218645 ,  -22.95563268,   41.20437659, ..., 5421.38596292,\n",
       "         106.69915374,    0.        ]])"
      ]
     },
     "execution_count": 46,
     "metadata": {},
     "output_type": "execute_result"
    }
   ],
   "source": [
    "predict_set_final_X"
   ]
  },
  {
   "cell_type": "code",
   "execution_count": 47,
   "id": "5e5a106e",
   "metadata": {},
   "outputs": [],
   "source": [
    "result = lin_reg.predict(predict_set_final_X)"
   ]
  },
  {
   "cell_type": "code",
   "execution_count": 48,
   "id": "aa22ec0c",
   "metadata": {},
   "outputs": [
    {
     "data": {
      "text/plain": [
       "array([[1616.74012484, 1492.30343942, 1691.76278048, 1604.28343349,\n",
       "        1638.56937442, 1681.71529184],\n",
       "       [1616.64812121, 1492.25460124, 1691.73035224, 1604.29204801,\n",
       "        1638.58526872, 1681.70070147],\n",
       "       [1616.52790852, 1492.18990385, 1691.68747733, 1604.3003846 ,\n",
       "        1638.60188158, 1681.67836812],\n",
       "       ...,\n",
       "       [1502.64724257, 1422.972063  , 1645.05262942, 1573.20220406,\n",
       "        1606.23206623, 1622.20108127],\n",
       "       [1502.13271981, 1422.6515415 , 1644.83502434, 1572.90547972,\n",
       "        1605.9512236 , 1621.83373477],\n",
       "       [1501.60315822, 1422.32639407, 1644.60898523, 1572.60299463,\n",
       "        1605.66852625, 1621.45793185]])"
      ]
     },
     "execution_count": 48,
     "metadata": {},
     "output_type": "execute_result"
    }
   ],
   "source": [
    "result"
   ]
  },
  {
   "cell_type": "markdown",
   "id": "85d524b6",
   "metadata": {},
   "source": [
    "Convert result to dataframe"
   ]
  },
  {
   "cell_type": "code",
   "execution_count": 50,
   "id": "ba755968",
   "metadata": {},
   "outputs": [],
   "source": [
    "result_df = pd.DataFrame(result, columns = ['Bolt_1_Tensile','Bolt_2_Tensile','Bolt_3_Tensile','Bolt_4_Tensile','Bolt_5_Tensile','Bolt_6_Tensile'])"
   ]
  },
  {
   "cell_type": "code",
   "execution_count": 51,
   "id": "a594ec8c",
   "metadata": {},
   "outputs": [],
   "source": [
    "result_df.index = predict_set_final.index"
   ]
  },
  {
   "cell_type": "code",
   "execution_count": 52,
   "id": "72b66f66",
   "metadata": {},
   "outputs": [
    {
     "data": {
      "text/html": [
       "<div>\n",
       "<style scoped>\n",
       "    .dataframe tbody tr th:only-of-type {\n",
       "        vertical-align: middle;\n",
       "    }\n",
       "\n",
       "    .dataframe tbody tr th {\n",
       "        vertical-align: top;\n",
       "    }\n",
       "\n",
       "    .dataframe thead th {\n",
       "        text-align: right;\n",
       "    }\n",
       "</style>\n",
       "<table border=\"1\" class=\"dataframe\">\n",
       "  <thead>\n",
       "    <tr style=\"text-align: right;\">\n",
       "      <th></th>\n",
       "      <th>Bolt_1_Tensile</th>\n",
       "      <th>Bolt_2_Tensile</th>\n",
       "      <th>Bolt_3_Tensile</th>\n",
       "      <th>Bolt_4_Tensile</th>\n",
       "      <th>Bolt_5_Tensile</th>\n",
       "      <th>Bolt_6_Tensile</th>\n",
       "    </tr>\n",
       "    <tr>\n",
       "      <th>timepoints</th>\n",
       "      <th></th>\n",
       "      <th></th>\n",
       "      <th></th>\n",
       "      <th></th>\n",
       "      <th></th>\n",
       "      <th></th>\n",
       "    </tr>\n",
       "  </thead>\n",
       "  <tbody>\n",
       "    <tr>\n",
       "      <th>1971-01-25 11:06:49</th>\n",
       "      <td>1616.740125</td>\n",
       "      <td>1492.303439</td>\n",
       "      <td>1691.762780</td>\n",
       "      <td>1604.283433</td>\n",
       "      <td>1638.569374</td>\n",
       "      <td>1681.715292</td>\n",
       "    </tr>\n",
       "    <tr>\n",
       "      <th>1971-01-25 11:06:50</th>\n",
       "      <td>1616.648121</td>\n",
       "      <td>1492.254601</td>\n",
       "      <td>1691.730352</td>\n",
       "      <td>1604.292048</td>\n",
       "      <td>1638.585269</td>\n",
       "      <td>1681.700701</td>\n",
       "    </tr>\n",
       "    <tr>\n",
       "      <th>1971-01-25 11:06:51</th>\n",
       "      <td>1616.527909</td>\n",
       "      <td>1492.189904</td>\n",
       "      <td>1691.687477</td>\n",
       "      <td>1604.300385</td>\n",
       "      <td>1638.601882</td>\n",
       "      <td>1681.678368</td>\n",
       "    </tr>\n",
       "    <tr>\n",
       "      <th>1971-01-25 11:06:52</th>\n",
       "      <td>1616.407696</td>\n",
       "      <td>1492.125206</td>\n",
       "      <td>1691.644602</td>\n",
       "      <td>1604.308721</td>\n",
       "      <td>1638.618494</td>\n",
       "      <td>1681.656035</td>\n",
       "    </tr>\n",
       "    <tr>\n",
       "      <th>1971-01-25 11:06:53</th>\n",
       "      <td>1616.267124</td>\n",
       "      <td>1492.048479</td>\n",
       "      <td>1691.593820</td>\n",
       "      <td>1604.313036</td>\n",
       "      <td>1638.630438</td>\n",
       "      <td>1681.624172</td>\n",
       "    </tr>\n",
       "    <tr>\n",
       "      <th>...</th>\n",
       "      <td>...</td>\n",
       "      <td>...</td>\n",
       "      <td>...</td>\n",
       "      <td>...</td>\n",
       "      <td>...</td>\n",
       "      <td>...</td>\n",
       "    </tr>\n",
       "    <tr>\n",
       "      <th>1971-02-03 20:16:19</th>\n",
       "      <td>1503.671436</td>\n",
       "      <td>1423.611861</td>\n",
       "      <td>1645.485003</td>\n",
       "      <td>1573.793586</td>\n",
       "      <td>1606.793175</td>\n",
       "      <td>1622.932941</td>\n",
       "    </tr>\n",
       "    <tr>\n",
       "      <th>1971-02-03 20:16:20</th>\n",
       "      <td>1503.158959</td>\n",
       "      <td>1423.291721</td>\n",
       "      <td>1645.268661</td>\n",
       "      <td>1573.497854</td>\n",
       "      <td>1606.512563</td>\n",
       "      <td>1622.566850</td>\n",
       "    </tr>\n",
       "    <tr>\n",
       "      <th>1971-02-03 20:16:21</th>\n",
       "      <td>1502.647243</td>\n",
       "      <td>1422.972063</td>\n",
       "      <td>1645.052629</td>\n",
       "      <td>1573.202204</td>\n",
       "      <td>1606.232066</td>\n",
       "      <td>1622.201081</td>\n",
       "    </tr>\n",
       "    <tr>\n",
       "      <th>1971-02-03 20:16:22</th>\n",
       "      <td>1502.132720</td>\n",
       "      <td>1422.651542</td>\n",
       "      <td>1644.835024</td>\n",
       "      <td>1572.905480</td>\n",
       "      <td>1605.951224</td>\n",
       "      <td>1621.833735</td>\n",
       "    </tr>\n",
       "    <tr>\n",
       "      <th>1971-02-03 20:16:23</th>\n",
       "      <td>1501.603158</td>\n",
       "      <td>1422.326394</td>\n",
       "      <td>1644.608985</td>\n",
       "      <td>1572.602995</td>\n",
       "      <td>1605.668526</td>\n",
       "      <td>1621.457932</td>\n",
       "    </tr>\n",
       "  </tbody>\n",
       "</table>\n",
       "<p>226364 rows × 6 columns</p>\n",
       "</div>"
      ],
      "text/plain": [
       "                     Bolt_1_Tensile  Bolt_2_Tensile  Bolt_3_Tensile  \\\n",
       "timepoints                                                            \n",
       "1971-01-25 11:06:49     1616.740125     1492.303439     1691.762780   \n",
       "1971-01-25 11:06:50     1616.648121     1492.254601     1691.730352   \n",
       "1971-01-25 11:06:51     1616.527909     1492.189904     1691.687477   \n",
       "1971-01-25 11:06:52     1616.407696     1492.125206     1691.644602   \n",
       "1971-01-25 11:06:53     1616.267124     1492.048479     1691.593820   \n",
       "...                             ...             ...             ...   \n",
       "1971-02-03 20:16:19     1503.671436     1423.611861     1645.485003   \n",
       "1971-02-03 20:16:20     1503.158959     1423.291721     1645.268661   \n",
       "1971-02-03 20:16:21     1502.647243     1422.972063     1645.052629   \n",
       "1971-02-03 20:16:22     1502.132720     1422.651542     1644.835024   \n",
       "1971-02-03 20:16:23     1501.603158     1422.326394     1644.608985   \n",
       "\n",
       "                     Bolt_4_Tensile  Bolt_5_Tensile  Bolt_6_Tensile  \n",
       "timepoints                                                           \n",
       "1971-01-25 11:06:49     1604.283433     1638.569374     1681.715292  \n",
       "1971-01-25 11:06:50     1604.292048     1638.585269     1681.700701  \n",
       "1971-01-25 11:06:51     1604.300385     1638.601882     1681.678368  \n",
       "1971-01-25 11:06:52     1604.308721     1638.618494     1681.656035  \n",
       "1971-01-25 11:06:53     1604.313036     1638.630438     1681.624172  \n",
       "...                             ...             ...             ...  \n",
       "1971-02-03 20:16:19     1573.793586     1606.793175     1622.932941  \n",
       "1971-02-03 20:16:20     1573.497854     1606.512563     1622.566850  \n",
       "1971-02-03 20:16:21     1573.202204     1606.232066     1622.201081  \n",
       "1971-02-03 20:16:22     1572.905480     1605.951224     1621.833735  \n",
       "1971-02-03 20:16:23     1572.602995     1605.668526     1621.457932  \n",
       "\n",
       "[226364 rows x 6 columns]"
      ]
     },
     "execution_count": 52,
     "metadata": {},
     "output_type": "execute_result"
    }
   ],
   "source": [
    "result_df"
   ]
  },
  {
   "cell_type": "code",
   "execution_count": 53,
   "id": "9a79cf17",
   "metadata": {},
   "outputs": [],
   "source": [
    "result_df.to_csv('result.csv')"
   ]
  },
  {
   "cell_type": "code",
   "execution_count": 54,
   "id": "f40f82f2",
   "metadata": {},
   "outputs": [
    {
     "data": {
      "text/plain": [
       "[<matplotlib.lines.Line2D at 0x7fb0b0f29190>]"
      ]
     },
     "execution_count": 54,
     "metadata": {},
     "output_type": "execute_result"
    },
    {
     "data": {
      "image/png": "[encoded data removed]",
      "text/plain": [
       "<Figure size 432x288 with 1 Axes>"
      ]
     },
     "metadata": {
      "needs_background": "light"
     },
     "output_type": "display_data"
    }
   ],
   "source": [
    "plt.plot(result_df['Bolt_4_Tensile'])"
   ]
  },
  {
   "cell_type": "code",
   "execution_count": null,
   "id": "f6e3d281",
   "metadata": {},
   "outputs": [],
   "source": []
  },
  {
   "cell_type": "code",
   "execution_count": null,
   "id": "dac7a7c6",
   "metadata": {},
   "outputs": [],
   "source": []
  }
 ],
 "metadata": {
  "kernelspec": {
   "display_name": "Python 3 (ipykernel)",
   "language": "python",
   "name": "python3"
  },
  "language_info": {
   "codemirror_mode": {
    "name": "ipython",
    "version": 3
   },
   "file_extension": ".py",
   "mimetype": "text/x-python",
   "name": "python",
   "nbconvert_exporter": "python",
   "pygments_lexer": "ipython3",
   "version": "3.8.8"
  }
 },
 "nbformat": 4,
 "nbformat_minor": 5
}
